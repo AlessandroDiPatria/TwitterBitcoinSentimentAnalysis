{
 "cells": [
  {
   "cell_type": "markdown",
   "id": "a0ca9309",
   "metadata": {},
   "source": [
    "# Tweet text Sentiment about  Bitcoin "
   ]
  },
  {
   "cell_type": "code",
   "execution_count": null,
   "id": "b9b17e0f",
   "metadata": {},
   "outputs": [],
   "source": [
    "'''Alessandro Di Patria, matricola = 184458'''"
   ]
  },
  {
   "cell_type": "code",
   "execution_count": 1,
   "id": "86c05c8f",
   "metadata": {},
   "outputs": [],
   "source": [
    "import pandas as pd\n",
    "import numpy as np\n",
    "from sklearn.impute import SimpleImputer\n",
    "#data = pd.read_csv(\"mbsa.csv\", nrows=1000000)\n"
   ]
  },
  {
   "cell_type": "markdown",
   "id": "1f7ebfb2",
   "metadata": {},
   "source": [
    "# Data Analysis"
   ]
  },
  {
   "cell_type": "markdown",
   "id": "52ebb91f",
   "metadata": {},
   "source": [
    "### Plotting the distribution of Sentiment"
   ]
  },
  {
   "cell_type": "markdown",
   "id": "19065a5c",
   "metadata": {},
   "source": [
    "### BTC Popularity over the date\n",
    "The data plotted aboves gives us the information about popularity of bitcoin that increased in years.\n",
    "Probably dued to the bull phase that incremented the hype."
   ]
  },
  {
   "cell_type": "code",
   "execution_count": 2,
   "id": "97b8b4bd",
   "metadata": {},
   "outputs": [
    {
     "data": {
      "text/html": [
       "<div>\n",
       "<style scoped>\n",
       "    .dataframe tbody tr th:only-of-type {\n",
       "        vertical-align: middle;\n",
       "    }\n",
       "\n",
       "    .dataframe tbody tr th {\n",
       "        vertical-align: top;\n",
       "    }\n",
       "\n",
       "    .dataframe thead th {\n",
       "        text-align: right;\n",
       "    }\n",
       "</style>\n",
       "<table border=\"1\" class=\"dataframe\">\n",
       "  <thead>\n",
       "    <tr style=\"text-align: right;\">\n",
       "      <th></th>\n",
       "      <th>0</th>\n",
       "      <th>1</th>\n",
       "      <th>2</th>\n",
       "      <th>3</th>\n",
       "      <th>4</th>\n",
       "      <th>5</th>\n",
       "      <th>6</th>\n",
       "      <th>7</th>\n",
       "    </tr>\n",
       "  </thead>\n",
       "  <tbody>\n",
       "    <tr>\n",
       "      <th>0</th>\n",
       "      <td>Fri Mar 23 00:40:32 +0000 2018</td>\n",
       "      <td>RT @ALXTOKEN: Paul Krugman, Nobel Luddite. I h...</td>\n",
       "      <td>myresumerocket</td>\n",
       "      <td>16522</td>\n",
       "      <td>0</td>\n",
       "      <td>[]</td>\n",
       "      <td>&lt;a href=\"http://twitter.com\" rel=\"nofollow\"&gt;Tw...</td>\n",
       "      <td>['neutral']</td>\n",
       "    </tr>\n",
       "    <tr>\n",
       "      <th>1</th>\n",
       "      <td>Fri Mar 23 00:40:34 +0000 2018</td>\n",
       "      <td>@lopp @_Kevin_Pham @psycho_sage @naval But @Pr...</td>\n",
       "      <td>BitMocro</td>\n",
       "      <td>1295</td>\n",
       "      <td>0</td>\n",
       "      <td>[u'Bitcoin']</td>\n",
       "      <td>&lt;a href=\"http://twitter.com/download/android\" ...</td>\n",
       "      <td>['neutral']</td>\n",
       "    </tr>\n",
       "    <tr>\n",
       "      <th>2</th>\n",
       "      <td>Fri Mar 23 00:40:35 +0000 2018</td>\n",
       "      <td>RT @tippereconomy: Another use case for #block...</td>\n",
       "      <td>hojachotopur</td>\n",
       "      <td>6090</td>\n",
       "      <td>0</td>\n",
       "      <td>[u'blockchain', u'Tipper', u'TipperEconomy']</td>\n",
       "      <td>&lt;a href=\"http://twitter.com\" rel=\"nofollow\"&gt;Tw...</td>\n",
       "      <td>['positive']</td>\n",
       "    </tr>\n",
       "    <tr>\n",
       "      <th>3</th>\n",
       "      <td>Fri Mar 23 00:40:36 +0000 2018</td>\n",
       "      <td>free coins https://t.co/DiuoePJdap</td>\n",
       "      <td>denies_distro</td>\n",
       "      <td>2626</td>\n",
       "      <td>0</td>\n",
       "      <td>[]</td>\n",
       "      <td>&lt;a href=\"http://twitter.com\" rel=\"nofollow\"&gt;Tw...</td>\n",
       "      <td>['positive']</td>\n",
       "    </tr>\n",
       "    <tr>\n",
       "      <th>4</th>\n",
       "      <td>Fri Mar 23 00:40:36 +0000 2018</td>\n",
       "      <td>RT @payvxofficial: WE are happy to announce th...</td>\n",
       "      <td>aditzgraha</td>\n",
       "      <td>184</td>\n",
       "      <td>0</td>\n",
       "      <td>[]</td>\n",
       "      <td>&lt;a href=\"http://twitter.com/download/android\" ...</td>\n",
       "      <td>['positive']</td>\n",
       "    </tr>\n",
       "  </tbody>\n",
       "</table>\n",
       "</div>"
      ],
      "text/plain": [
       "                                0  \\\n",
       "0  Fri Mar 23 00:40:32 +0000 2018   \n",
       "1  Fri Mar 23 00:40:34 +0000 2018   \n",
       "2  Fri Mar 23 00:40:35 +0000 2018   \n",
       "3  Fri Mar 23 00:40:36 +0000 2018   \n",
       "4  Fri Mar 23 00:40:36 +0000 2018   \n",
       "\n",
       "                                                   1               2      3  \\\n",
       "0  RT @ALXTOKEN: Paul Krugman, Nobel Luddite. I h...  myresumerocket  16522   \n",
       "1  @lopp @_Kevin_Pham @psycho_sage @naval But @Pr...        BitMocro   1295   \n",
       "2  RT @tippereconomy: Another use case for #block...    hojachotopur   6090   \n",
       "3                 free coins https://t.co/DiuoePJdap   denies_distro   2626   \n",
       "4  RT @payvxofficial: WE are happy to announce th...      aditzgraha    184   \n",
       "\n",
       "   4                                             5  \\\n",
       "0  0                                            []   \n",
       "1  0                                  [u'Bitcoin']   \n",
       "2  0  [u'blockchain', u'Tipper', u'TipperEconomy']   \n",
       "3  0                                            []   \n",
       "4  0                                            []   \n",
       "\n",
       "                                                   6             7  \n",
       "0  <a href=\"http://twitter.com\" rel=\"nofollow\">Tw...   ['neutral']  \n",
       "1  <a href=\"http://twitter.com/download/android\" ...   ['neutral']  \n",
       "2  <a href=\"http://twitter.com\" rel=\"nofollow\">Tw...  ['positive']  \n",
       "3  <a href=\"http://twitter.com\" rel=\"nofollow\">Tw...  ['positive']  \n",
       "4  <a href=\"http://twitter.com/download/android\" ...  ['positive']  "
      ]
     },
     "execution_count": 2,
     "metadata": {},
     "output_type": "execute_result"
    }
   ],
   "source": [
    "\n",
    "data_tweet = pd.read_csv('bitcointweets.csv', header=None,)\n",
    "data_tweet.head()"
   ]
  },
  {
   "cell_type": "code",
   "execution_count": 3,
   "id": "750ee09e",
   "metadata": {},
   "outputs": [],
   "source": [
    "data_tweet = pd.read_csv('bitcointweets.csv', header=None)\n",
    "data_tweet.columns = ['Date', 'Text', 'Users',\"d\",'e',\"Retweet\",'Url','Sentiment']"
   ]
  },
  {
   "cell_type": "code",
   "execution_count": 4,
   "id": "097fea38",
   "metadata": {},
   "outputs": [
    {
     "data": {
      "text/html": [
       "<div>\n",
       "<style scoped>\n",
       "    .dataframe tbody tr th:only-of-type {\n",
       "        vertical-align: middle;\n",
       "    }\n",
       "\n",
       "    .dataframe tbody tr th {\n",
       "        vertical-align: top;\n",
       "    }\n",
       "\n",
       "    .dataframe thead th {\n",
       "        text-align: right;\n",
       "    }\n",
       "</style>\n",
       "<table border=\"1\" class=\"dataframe\">\n",
       "  <thead>\n",
       "    <tr style=\"text-align: right;\">\n",
       "      <th></th>\n",
       "      <th>Date</th>\n",
       "      <th>Text</th>\n",
       "      <th>Users</th>\n",
       "      <th>d</th>\n",
       "      <th>e</th>\n",
       "      <th>Retweet</th>\n",
       "      <th>Url</th>\n",
       "      <th>Sentiment</th>\n",
       "    </tr>\n",
       "  </thead>\n",
       "  <tbody>\n",
       "    <tr>\n",
       "      <th>0</th>\n",
       "      <td>Fri Mar 23 00:40:32 +0000 2018</td>\n",
       "      <td>RT @ALXTOKEN: Paul Krugman, Nobel Luddite. I h...</td>\n",
       "      <td>myresumerocket</td>\n",
       "      <td>16522</td>\n",
       "      <td>0</td>\n",
       "      <td>[]</td>\n",
       "      <td>&lt;a href=\"http://twitter.com\" rel=\"nofollow\"&gt;Tw...</td>\n",
       "      <td>['neutral']</td>\n",
       "    </tr>\n",
       "    <tr>\n",
       "      <th>1</th>\n",
       "      <td>Fri Mar 23 00:40:34 +0000 2018</td>\n",
       "      <td>@lopp @_Kevin_Pham @psycho_sage @naval But @Pr...</td>\n",
       "      <td>BitMocro</td>\n",
       "      <td>1295</td>\n",
       "      <td>0</td>\n",
       "      <td>[u'Bitcoin']</td>\n",
       "      <td>&lt;a href=\"http://twitter.com/download/android\" ...</td>\n",
       "      <td>['neutral']</td>\n",
       "    </tr>\n",
       "    <tr>\n",
       "      <th>2</th>\n",
       "      <td>Fri Mar 23 00:40:35 +0000 2018</td>\n",
       "      <td>RT @tippereconomy: Another use case for #block...</td>\n",
       "      <td>hojachotopur</td>\n",
       "      <td>6090</td>\n",
       "      <td>0</td>\n",
       "      <td>[u'blockchain', u'Tipper', u'TipperEconomy']</td>\n",
       "      <td>&lt;a href=\"http://twitter.com\" rel=\"nofollow\"&gt;Tw...</td>\n",
       "      <td>['positive']</td>\n",
       "    </tr>\n",
       "    <tr>\n",
       "      <th>3</th>\n",
       "      <td>Fri Mar 23 00:40:36 +0000 2018</td>\n",
       "      <td>free coins https://t.co/DiuoePJdap</td>\n",
       "      <td>denies_distro</td>\n",
       "      <td>2626</td>\n",
       "      <td>0</td>\n",
       "      <td>[]</td>\n",
       "      <td>&lt;a href=\"http://twitter.com\" rel=\"nofollow\"&gt;Tw...</td>\n",
       "      <td>['positive']</td>\n",
       "    </tr>\n",
       "    <tr>\n",
       "      <th>4</th>\n",
       "      <td>Fri Mar 23 00:40:36 +0000 2018</td>\n",
       "      <td>RT @payvxofficial: WE are happy to announce th...</td>\n",
       "      <td>aditzgraha</td>\n",
       "      <td>184</td>\n",
       "      <td>0</td>\n",
       "      <td>[]</td>\n",
       "      <td>&lt;a href=\"http://twitter.com/download/android\" ...</td>\n",
       "      <td>['positive']</td>\n",
       "    </tr>\n",
       "    <tr>\n",
       "      <th>...</th>\n",
       "      <td>...</td>\n",
       "      <td>...</td>\n",
       "      <td>...</td>\n",
       "      <td>...</td>\n",
       "      <td>...</td>\n",
       "      <td>...</td>\n",
       "      <td>...</td>\n",
       "      <td>...</td>\n",
       "    </tr>\n",
       "    <tr>\n",
       "      <th>50854</th>\n",
       "      <td>Fri Mar 23 08:55:16 +0000 2018</td>\n",
       "      <td>RT @fixy_app: Fixy Network brings popular cryp...</td>\n",
       "      <td>quoting_lives</td>\n",
       "      <td>5673</td>\n",
       "      <td>0</td>\n",
       "      <td>[]</td>\n",
       "      <td>&lt;a href=\"http://twitter.com\" rel=\"nofollow\"&gt;Tw...</td>\n",
       "      <td>['positive']</td>\n",
       "    </tr>\n",
       "    <tr>\n",
       "      <th>50855</th>\n",
       "      <td>Fri Mar 23 08:55:17 +0000 2018</td>\n",
       "      <td>RT @bethereumteam: After a successful launch o...</td>\n",
       "      <td>VariPewitt</td>\n",
       "      <td>372</td>\n",
       "      <td>0</td>\n",
       "      <td>[]</td>\n",
       "      <td>&lt;a href=\"http://twitter.com\" rel=\"nofollow\"&gt;Tw...</td>\n",
       "      <td>['positive']</td>\n",
       "    </tr>\n",
       "    <tr>\n",
       "      <th>50856</th>\n",
       "      <td>Fri Mar 23 08:55:18 +0000 2018</td>\n",
       "      <td>RT @GymRewards: Buy #GYMRewards Tokens, Bonus ...</td>\n",
       "      <td>urbancoinerz</td>\n",
       "      <td>557</td>\n",
       "      <td>0</td>\n",
       "      <td>[u'GYMRewards', u'ICO', u'cryptocurrency', u'm...</td>\n",
       "      <td>&lt;a href=\"http://twitter.com\" rel=\"nofollow\"&gt;Tw...</td>\n",
       "      <td>['neutral']</td>\n",
       "    </tr>\n",
       "    <tr>\n",
       "      <th>50857</th>\n",
       "      <td>Fri Mar 23 08:55:19 +0000 2018</td>\n",
       "      <td>I added a video to a @YouTube playlist https:/...</td>\n",
       "      <td>MRDanishShahab</td>\n",
       "      <td>3</td>\n",
       "      <td>0</td>\n",
       "      <td>[]</td>\n",
       "      <td>&lt;a href=\"http://www.google.com/\" rel=\"nofollow...</td>\n",
       "      <td>['positive']</td>\n",
       "    </tr>\n",
       "    <tr>\n",
       "      <th>50858</th>\n",
       "      <td>Fri Mar 23 08:55:19 +0000 2018</td>\n",
       "      <td>RT @Raybambs: Airdrop PhotoCoin Airdrop Round#...</td>\n",
       "      <td>Azriel020</td>\n",
       "      <td>1271</td>\n",
       "      <td>0</td>\n",
       "      <td>[u'PhotoCoin']</td>\n",
       "      <td>&lt;a href=\"http://twitter.com/download/android\" ...</td>\n",
       "      <td>['positive']</td>\n",
       "    </tr>\n",
       "  </tbody>\n",
       "</table>\n",
       "<p>50859 rows × 8 columns</p>\n",
       "</div>"
      ],
      "text/plain": [
       "                                 Date  \\\n",
       "0      Fri Mar 23 00:40:32 +0000 2018   \n",
       "1      Fri Mar 23 00:40:34 +0000 2018   \n",
       "2      Fri Mar 23 00:40:35 +0000 2018   \n",
       "3      Fri Mar 23 00:40:36 +0000 2018   \n",
       "4      Fri Mar 23 00:40:36 +0000 2018   \n",
       "...                               ...   \n",
       "50854  Fri Mar 23 08:55:16 +0000 2018   \n",
       "50855  Fri Mar 23 08:55:17 +0000 2018   \n",
       "50856  Fri Mar 23 08:55:18 +0000 2018   \n",
       "50857  Fri Mar 23 08:55:19 +0000 2018   \n",
       "50858  Fri Mar 23 08:55:19 +0000 2018   \n",
       "\n",
       "                                                    Text           Users  \\\n",
       "0      RT @ALXTOKEN: Paul Krugman, Nobel Luddite. I h...  myresumerocket   \n",
       "1      @lopp @_Kevin_Pham @psycho_sage @naval But @Pr...        BitMocro   \n",
       "2      RT @tippereconomy: Another use case for #block...    hojachotopur   \n",
       "3                     free coins https://t.co/DiuoePJdap   denies_distro   \n",
       "4      RT @payvxofficial: WE are happy to announce th...      aditzgraha   \n",
       "...                                                  ...             ...   \n",
       "50854  RT @fixy_app: Fixy Network brings popular cryp...   quoting_lives   \n",
       "50855  RT @bethereumteam: After a successful launch o...      VariPewitt   \n",
       "50856  RT @GymRewards: Buy #GYMRewards Tokens, Bonus ...    urbancoinerz   \n",
       "50857  I added a video to a @YouTube playlist https:/...  MRDanishShahab   \n",
       "50858  RT @Raybambs: Airdrop PhotoCoin Airdrop Round#...       Azriel020   \n",
       "\n",
       "           d  e                                            Retweet  \\\n",
       "0      16522  0                                                 []   \n",
       "1       1295  0                                       [u'Bitcoin']   \n",
       "2       6090  0       [u'blockchain', u'Tipper', u'TipperEconomy']   \n",
       "3       2626  0                                                 []   \n",
       "4        184  0                                                 []   \n",
       "...      ... ..                                                ...   \n",
       "50854   5673  0                                                 []   \n",
       "50855    372  0                                                 []   \n",
       "50856    557  0  [u'GYMRewards', u'ICO', u'cryptocurrency', u'm...   \n",
       "50857      3  0                                                 []   \n",
       "50858   1271  0                                     [u'PhotoCoin']   \n",
       "\n",
       "                                                     Url     Sentiment  \n",
       "0      <a href=\"http://twitter.com\" rel=\"nofollow\">Tw...   ['neutral']  \n",
       "1      <a href=\"http://twitter.com/download/android\" ...   ['neutral']  \n",
       "2      <a href=\"http://twitter.com\" rel=\"nofollow\">Tw...  ['positive']  \n",
       "3      <a href=\"http://twitter.com\" rel=\"nofollow\">Tw...  ['positive']  \n",
       "4      <a href=\"http://twitter.com/download/android\" ...  ['positive']  \n",
       "...                                                  ...           ...  \n",
       "50854  <a href=\"http://twitter.com\" rel=\"nofollow\">Tw...  ['positive']  \n",
       "50855  <a href=\"http://twitter.com\" rel=\"nofollow\">Tw...  ['positive']  \n",
       "50856  <a href=\"http://twitter.com\" rel=\"nofollow\">Tw...   ['neutral']  \n",
       "50857  <a href=\"http://www.google.com/\" rel=\"nofollow...  ['positive']  \n",
       "50858  <a href=\"http://twitter.com/download/android\" ...  ['positive']  \n",
       "\n",
       "[50859 rows x 8 columns]"
      ]
     },
     "execution_count": 4,
     "metadata": {},
     "output_type": "execute_result"
    }
   ],
   "source": [
    "data_tweet"
   ]
  },
  {
   "cell_type": "markdown",
   "id": "93500710",
   "metadata": {},
   "source": [
    "## Dataset Analysis\n",
    "    1.Most Five Active Users \n",
    "    2.Most Used Devices\n",
    "    3 Mean Length of tweets \n",
    "    4.Distributions of Sentiment classes\n",
    "    5.Most used tags"
   ]
  },
  {
   "cell_type": "markdown",
   "id": "8f53fc4f",
   "metadata": {},
   "source": [
    "### 1. Most Active Users"
   ]
  },
  {
   "cell_type": "code",
   "execution_count": 5,
   "id": "bcadfa90",
   "metadata": {},
   "outputs": [
    {
     "name": "stdout",
     "output_type": "stream",
     "text": [
      "['moneyblockchain', 'RandolphMlny', 'CoinsAirdrops', 'CyberDomain', 'CyberToolsBooks'] [854, 705, 700, 467, 459]\n"
     ]
    }
   ],
   "source": [
    "users = data_tweet['Users'].value_counts()\n",
    "count = 0\n",
    "lista_users = []\n",
    "lista_count = []\n",
    "for index, value in users.items():\n",
    "    if count == 5 :\n",
    "        break\n",
    "    count = count +1 \n",
    "    lista_users.append(index)\n",
    "    lista_count.append(value)\n",
    "print(lista_users,lista_count)\n",
    "\n"
   ]
  },
  {
   "cell_type": "code",
   "execution_count": 6,
   "id": "9badcacb",
   "metadata": {},
   "outputs": [
    {
     "data": {
      "text/plain": [
       "<BarContainer object of 5 artists>"
      ]
     },
     "execution_count": 6,
     "metadata": {},
     "output_type": "execute_result"
    },
    {
     "data": {
      "image/png": "[encoded data removed]",
      "text/plain": [
       "<Figure size 640x480 with 1 Axes>"
      ]
     },
     "metadata": {},
     "output_type": "display_data"
    }
   ],
   "source": [
    "import matplotlib.pyplot as plt; plt.rcdefaults()\n",
    "import numpy as np\n",
    "import matplotlib.pyplot as plt\n",
    "plt.bar(lista_users, lista_count, align='center', alpha=1)"
   ]
  },
  {
   "cell_type": "markdown",
   "id": "9702ae0c",
   "metadata": {},
   "source": [
    "#### Results\n",
    "The most active user is money blockchain."
   ]
  },
  {
   "cell_type": "markdown",
   "id": "8b5b665b",
   "metadata": {},
   "source": [
    "### 2.  Device most used by users"
   ]
  },
  {
   "cell_type": "code",
   "execution_count": 7,
   "id": "a57acb39",
   "metadata": {},
   "outputs": [],
   "source": [
    "mobile = \"mobile\"\n",
    "Mobile = \"Mobile\" \n",
    "Android = \"android\"\n",
    "Apple = \"Apple\"\n",
    "Ipad = \"iPad\"\n",
    "Iphone = \"iPhone\"\n",
    "android = \"android\"\n",
    "apple = \"apple\"\n",
    "web = \"web\"\n",
    "Web = \"Web\"\n",
    "android_list = [] \n",
    "mobile_list = []\n",
    "for x in data_tweet.Url:\n",
    "    if mobile in x or android in x or apple in x or Apple in x or Iphone in x  or Ipad in x or Android in x or Mobile in x: \n",
    "        mobile_list.append(\"Mobile\")\n",
    "    elif Web in x or web in x:\n",
    "        mobile_list.append(\"Web\")\n",
    "    else: \n",
    "        mobile_list.append(\"Others\")"
   ]
  },
  {
   "cell_type": "code",
   "execution_count": 8,
   "id": "e49ead74",
   "metadata": {},
   "outputs": [
    {
     "name": "stdout",
     "output_type": "stream",
     "text": [
      "True\n"
     ]
    },
    {
     "data": {
      "text/plain": [
       "<AxesSubplot:xlabel='Devices', ylabel='count'>"
      ]
     },
     "execution_count": 8,
     "metadata": {},
     "output_type": "execute_result"
    },
    {
     "data": {
      "image/png": "[encoded data removed]",
      "text/plain": [
       "<Figure size 640x480 with 1 Axes>"
      ]
     },
     "metadata": {},
     "output_type": "display_data"
    }
   ],
   "source": [
    "import matplotlib.pyplot as plt\n",
    "import seaborn as sns\n",
    "\n",
    "print(len(mobile_list) == len(data_tweet))\n",
    "data_tweet[\"Devices\"] = mobile_list\n",
    "data_tweet.head()\n",
    "\n",
    "sns.countplot(x = data_tweet['Devices'])\n"
   ]
  },
  {
   "cell_type": "code",
   "execution_count": 9,
   "id": "926508e3",
   "metadata": {},
   "outputs": [
    {
     "data": {
      "text/html": [
       "<div>\n",
       "<style scoped>\n",
       "    .dataframe tbody tr th:only-of-type {\n",
       "        vertical-align: middle;\n",
       "    }\n",
       "\n",
       "    .dataframe tbody tr th {\n",
       "        vertical-align: top;\n",
       "    }\n",
       "\n",
       "    .dataframe thead th {\n",
       "        text-align: right;\n",
       "    }\n",
       "</style>\n",
       "<table border=\"1\" class=\"dataframe\">\n",
       "  <thead>\n",
       "    <tr style=\"text-align: right;\">\n",
       "      <th></th>\n",
       "      <th>Date</th>\n",
       "      <th>Text</th>\n",
       "      <th>Users</th>\n",
       "      <th>d</th>\n",
       "      <th>e</th>\n",
       "      <th>Retweet</th>\n",
       "      <th>Url</th>\n",
       "      <th>Sentiment</th>\n",
       "      <th>Devices</th>\n",
       "    </tr>\n",
       "  </thead>\n",
       "  <tbody>\n",
       "    <tr>\n",
       "      <th>0</th>\n",
       "      <td>Fri Mar 23 00:40:32 +0000 2018</td>\n",
       "      <td>RT @ALXTOKEN: Paul Krugman, Nobel Luddite. I h...</td>\n",
       "      <td>myresumerocket</td>\n",
       "      <td>16522</td>\n",
       "      <td>0</td>\n",
       "      <td>[]</td>\n",
       "      <td>&lt;a href=\"http://twitter.com\" rel=\"nofollow\"&gt;Tw...</td>\n",
       "      <td>['neutral']</td>\n",
       "      <td>Web</td>\n",
       "    </tr>\n",
       "    <tr>\n",
       "      <th>1</th>\n",
       "      <td>Fri Mar 23 00:40:34 +0000 2018</td>\n",
       "      <td>@lopp @_Kevin_Pham @psycho_sage @naval But @Pr...</td>\n",
       "      <td>BitMocro</td>\n",
       "      <td>1295</td>\n",
       "      <td>0</td>\n",
       "      <td>[u'Bitcoin']</td>\n",
       "      <td>&lt;a href=\"http://twitter.com/download/android\" ...</td>\n",
       "      <td>['neutral']</td>\n",
       "      <td>Mobile</td>\n",
       "    </tr>\n",
       "    <tr>\n",
       "      <th>2</th>\n",
       "      <td>Fri Mar 23 00:40:35 +0000 2018</td>\n",
       "      <td>RT @tippereconomy: Another use case for #block...</td>\n",
       "      <td>hojachotopur</td>\n",
       "      <td>6090</td>\n",
       "      <td>0</td>\n",
       "      <td>[u'blockchain', u'Tipper', u'TipperEconomy']</td>\n",
       "      <td>&lt;a href=\"http://twitter.com\" rel=\"nofollow\"&gt;Tw...</td>\n",
       "      <td>['positive']</td>\n",
       "      <td>Web</td>\n",
       "    </tr>\n",
       "    <tr>\n",
       "      <th>3</th>\n",
       "      <td>Fri Mar 23 00:40:36 +0000 2018</td>\n",
       "      <td>free coins https://t.co/DiuoePJdap</td>\n",
       "      <td>denies_distro</td>\n",
       "      <td>2626</td>\n",
       "      <td>0</td>\n",
       "      <td>[]</td>\n",
       "      <td>&lt;a href=\"http://twitter.com\" rel=\"nofollow\"&gt;Tw...</td>\n",
       "      <td>['positive']</td>\n",
       "      <td>Web</td>\n",
       "    </tr>\n",
       "    <tr>\n",
       "      <th>4</th>\n",
       "      <td>Fri Mar 23 00:40:36 +0000 2018</td>\n",
       "      <td>RT @payvxofficial: WE are happy to announce th...</td>\n",
       "      <td>aditzgraha</td>\n",
       "      <td>184</td>\n",
       "      <td>0</td>\n",
       "      <td>[]</td>\n",
       "      <td>&lt;a href=\"http://twitter.com/download/android\" ...</td>\n",
       "      <td>['positive']</td>\n",
       "      <td>Mobile</td>\n",
       "    </tr>\n",
       "  </tbody>\n",
       "</table>\n",
       "</div>"
      ],
      "text/plain": [
       "                             Date  \\\n",
       "0  Fri Mar 23 00:40:32 +0000 2018   \n",
       "1  Fri Mar 23 00:40:34 +0000 2018   \n",
       "2  Fri Mar 23 00:40:35 +0000 2018   \n",
       "3  Fri Mar 23 00:40:36 +0000 2018   \n",
       "4  Fri Mar 23 00:40:36 +0000 2018   \n",
       "\n",
       "                                                Text           Users      d  \\\n",
       "0  RT @ALXTOKEN: Paul Krugman, Nobel Luddite. I h...  myresumerocket  16522   \n",
       "1  @lopp @_Kevin_Pham @psycho_sage @naval But @Pr...        BitMocro   1295   \n",
       "2  RT @tippereconomy: Another use case for #block...    hojachotopur   6090   \n",
       "3                 free coins https://t.co/DiuoePJdap   denies_distro   2626   \n",
       "4  RT @payvxofficial: WE are happy to announce th...      aditzgraha    184   \n",
       "\n",
       "   e                                       Retweet  \\\n",
       "0  0                                            []   \n",
       "1  0                                  [u'Bitcoin']   \n",
       "2  0  [u'blockchain', u'Tipper', u'TipperEconomy']   \n",
       "3  0                                            []   \n",
       "4  0                                            []   \n",
       "\n",
       "                                                 Url     Sentiment Devices  \n",
       "0  <a href=\"http://twitter.com\" rel=\"nofollow\">Tw...   ['neutral']     Web  \n",
       "1  <a href=\"http://twitter.com/download/android\" ...   ['neutral']  Mobile  \n",
       "2  <a href=\"http://twitter.com\" rel=\"nofollow\">Tw...  ['positive']     Web  \n",
       "3  <a href=\"http://twitter.com\" rel=\"nofollow\">Tw...  ['positive']     Web  \n",
       "4  <a href=\"http://twitter.com/download/android\" ...  ['positive']  Mobile  "
      ]
     },
     "execution_count": 9,
     "metadata": {},
     "output_type": "execute_result"
    }
   ],
   "source": [
    "data_tweet.head()"
   ]
  },
  {
   "cell_type": "markdown",
   "id": "5f9a62bb",
   "metadata": {},
   "source": [
    "#### Results\n",
    "As we see the results of the plot shows that Web devices like computers and server ecc.. are the devices most used to post tweets.\n",
    "Others Devicies are probably bots or API like \"FTTT\" "
   ]
  },
  {
   "cell_type": "markdown",
   "id": "466052e8",
   "metadata": {},
   "source": [
    "### 3. Plotting the length for each tweet"
   ]
  },
  {
   "cell_type": "code",
   "execution_count": 10,
   "id": "7b426a8d",
   "metadata": {},
   "outputs": [
    {
     "data": {
      "text/plain": [
       "<AxesSubplot:>"
      ]
     },
     "execution_count": 10,
     "metadata": {},
     "output_type": "execute_result"
    },
    {
     "data": {
      "image/png": "[encoded data removed]",
      "text/plain": [
       "<Figure size 640x480 with 1 Axes>"
      ]
     },
     "metadata": {},
     "output_type": "display_data"
    }
   ],
   "source": [
    "data_tweet['text_length'] = data_tweet['Text'].apply(len)\n",
    "data_tweet['text_length'].hist(bins=50)"
   ]
  },
  {
   "cell_type": "code",
   "execution_count": 11,
   "id": "a6e24292",
   "metadata": {},
   "outputs": [
    {
     "data": {
      "text/plain": [
       "<seaborn.axisgrid.FacetGrid at 0x1feeb89ddc0>"
      ]
     },
     "execution_count": 11,
     "metadata": {},
     "output_type": "execute_result"
    },
    {
     "data": {
      "image/png": "[encoded data removed]",
      "text/plain": [
       "<Figure size 900x300 with 3 Axes>"
      ]
     },
     "metadata": {},
     "output_type": "display_data"
    }
   ],
   "source": [
    "data_tweet['Text_length'] = data_tweet['Text'].apply(len)\n",
    "g = sns.FacetGrid(data_tweet,col='Sentiment')\n",
    "g.map(plt.hist,'Text_length')"
   ]
  },
  {
   "cell_type": "markdown",
   "id": "e09d44be",
   "metadata": {},
   "source": [
    "### 4. Polarity of Sentiment"
   ]
  },
  {
   "cell_type": "code",
   "execution_count": 12,
   "id": "24266bf4",
   "metadata": {},
   "outputs": [
    {
     "data": {
      "text/plain": [
       "<AxesSubplot:xlabel='Sentiment', ylabel='count'>"
      ]
     },
     "execution_count": 12,
     "metadata": {},
     "output_type": "execute_result"
    },
    {
     "data": {
      "image/png": "[encoded data removed]",
      "text/plain": [
       "<Figure size 640x480 with 1 Axes>"
      ]
     },
     "metadata": {},
     "output_type": "display_data"
    }
   ],
   "source": [
    "import matplotlib.pyplot as plt\n",
    "import seaborn as sns\n",
    "sns.countplot(x = data_tweet['Sentiment'])"
   ]
  },
  {
   "cell_type": "markdown",
   "id": "c3103420",
   "metadata": {},
   "source": [
    "### 5.Most used hashtag"
   ]
  },
  {
   "cell_type": "code",
   "execution_count": 13,
   "id": "40ea6ccb",
   "metadata": {},
   "outputs": [
    {
     "data": {
      "text/plain": [
       "[]                                                                                    25033\n",
       "[u'Bitcoin']                                                                           1483\n",
       "[u'bitcoin']                                                                           1092\n",
       "[u'Cybersecurity', u'Bitcoin']                                                         1035\n",
       "[u'bitcointalk', u'ANN', u'Gymrewards', u'tokenssale', u'ethereum']                     673\n",
       "                                                                                      ...  \n",
       "[u'PhotoRealistic']                                                                       1\n",
       "[u'newsoftheweek', u'Bitcoin', u'blockchain', u'crypto', u'cryptocurrency']               1\n",
       "[u'cartels', u'diplomacy', u'news']                                                       1\n",
       "[u'crypto', u'blockchain', u'money', u'norway']                                           1\n",
       "[u'Zhao', u'Dong', u'Recounts', u'BTC', u'marketsandprices', u'bitcoin', u'china']        1\n",
       "Name: Retweet, Length: 4855, dtype: int64"
      ]
     },
     "execution_count": 13,
     "metadata": {},
     "output_type": "execute_result"
    }
   ],
   "source": [
    "data_tweet['Retweet'].value_counts()"
   ]
  },
  {
   "cell_type": "markdown",
   "id": "1e1ecbaf",
   "metadata": {},
   "source": [
    "## Preprocessing\n",
    "1. Checking Null/none values\n",
    "2. Replace Sentiment values (positive negative neutral) with discrete values\n",
    "3. Split train and test Values\n",
    "4. Tokenize Text"
   ]
  },
  {
   "cell_type": "code",
   "execution_count": 14,
   "id": "43fef27c",
   "metadata": {},
   "outputs": [
    {
     "data": {
      "text/plain": [
       "Date           0\n",
       "Text           0\n",
       "Users          0\n",
       "d              0\n",
       "e              0\n",
       "Retweet        0\n",
       "Url            0\n",
       "Sentiment      0\n",
       "Devices        0\n",
       "text_length    0\n",
       "Text_length    0\n",
       "dtype: int64"
      ]
     },
     "execution_count": 14,
     "metadata": {},
     "output_type": "execute_result"
    }
   ],
   "source": [
    "data_tweet.isnull().sum()"
   ]
  },
  {
   "cell_type": "code",
   "execution_count": 15,
   "id": "17eaa523",
   "metadata": {},
   "outputs": [
    {
     "data": {
      "text/plain": [
       "Date           0\n",
       "Text           0\n",
       "Users          0\n",
       "d              0\n",
       "e              0\n",
       "Retweet        0\n",
       "Url            0\n",
       "Sentiment      0\n",
       "Devices        0\n",
       "text_length    0\n",
       "Text_length    0\n",
       "dtype: int64"
      ]
     },
     "execution_count": 15,
     "metadata": {},
     "output_type": "execute_result"
    }
   ],
   "source": [
    "data_tweet.isna().sum()"
   ]
  },
  {
   "cell_type": "code",
   "execution_count": 16,
   "id": "8b2766ad",
   "metadata": {},
   "outputs": [],
   "source": [
    "data_preprocess = data_tweet[[\"Sentiment\",\"Text\"]]"
   ]
  },
  {
   "cell_type": "markdown",
   "id": "f38356bc",
   "metadata": {},
   "source": [
    "### 1. Data Cleaning \n",
    "1. Create a function that use the regex model (re) and split the document into words by selecting for strings of alphanumeric characters (a-z, A-Z, 0-9 and ‘_’).\n"
   ]
  },
  {
   "cell_type": "code",
   "execution_count": 17,
   "id": "05ebb8c9",
   "metadata": {},
   "outputs": [],
   "source": [
    "import re\n",
    "def clean(string):\n",
    "    string = re.sub(r'http\\S+', '', string)\n",
    "    string = re.sub('(RT|via)((?:\\\\b\\\\W*@\\\\w+)+)', ' ', string)\n",
    "    string = re.sub(r'@\\S+', '', string)\n",
    "    string = re.sub('&amp', ' ', string)\n",
    "    return string\n",
    "\n",
    "#Split => split all the string when a decided pattern occurs\n",
    "#Sub =>  remove\n",
    "#all the string when a decided pattern occurs\n",
    "\n",
    "data_tweet['clean_tweet'] = data_tweet['Text'].apply(clean)\n",
    "\n"
   ]
  },
  {
   "cell_type": "code",
   "execution_count": 18,
   "id": "898604a9",
   "metadata": {},
   "outputs": [
    {
     "name": "stdout",
     "output_type": "stream",
     "text": [
      "This is a smiley face 😂\n"
     ]
    }
   ],
   "source": [
    "import re\n",
    "\n",
    "text = u'This is a smiley face \\U0001f602'\n",
    "print(text) # with emoji\n",
    "\n",
    "\n",
    "def remove_emoji(string):\n",
    "    emoji_pattern = re.compile(\"[\"\n",
    "                           u\"\\U0001F600-\\U0001F64F\"  # emoticons\n",
    "                           u\"\\U0001F300-\\U0001F5FF\"  # symbols & pictographs\n",
    "                           u\"\\U0001F680-\\U0001F6FF\"  # transport & map symbols\n",
    "                           u\"\\U0001F1E0-\\U0001F1FF\"  # flags (iOS)\n",
    "                           u\"\\U00002702-\\U000027B0\"\n",
    "                           u\"\\U000024C2-\\U0001F251\"\n",
    "                           \"]+\", flags=re.UNICODE)\n",
    "    return emoji_pattern.sub(r'', string)\n",
    "\n",
    "\n",
    "data_tweet['clean'] = data_tweet['clean_tweet'].apply(remove_emoji)\n",
    "text = data_tweet['clean'].to_string().lower()  \n",
    "\n"
   ]
  },
  {
   "cell_type": "markdown",
   "id": "9299a033",
   "metadata": {},
   "source": [
    "### 2. Split train and test data"
   ]
  },
  {
   "cell_type": "code",
   "execution_count": 19,
   "id": "bd38c16f",
   "metadata": {},
   "outputs": [
    {
     "data": {
      "text/html": [
       "<div>\n",
       "<style scoped>\n",
       "    .dataframe tbody tr th:only-of-type {\n",
       "        vertical-align: middle;\n",
       "    }\n",
       "\n",
       "    .dataframe tbody tr th {\n",
       "        vertical-align: top;\n",
       "    }\n",
       "\n",
       "    .dataframe thead th {\n",
       "        text-align: right;\n",
       "    }\n",
       "</style>\n",
       "<table border=\"1\" class=\"dataframe\">\n",
       "  <thead>\n",
       "    <tr style=\"text-align: right;\">\n",
       "      <th></th>\n",
       "      <th>clean</th>\n",
       "      <th>Sentiment</th>\n",
       "    </tr>\n",
       "  </thead>\n",
       "  <tbody>\n",
       "    <tr>\n",
       "      <th>0</th>\n",
       "      <td>: Paul Krugman, Nobel Luddite. I had to tweak...</td>\n",
       "      <td>['neutral']</td>\n",
       "    </tr>\n",
       "    <tr>\n",
       "      <th>1</th>\n",
       "      <td>But  (dum b a ss) said you know nothing ab...</td>\n",
       "      <td>['neutral']</td>\n",
       "    </tr>\n",
       "    <tr>\n",
       "      <th>2</th>\n",
       "      <td>: Another use case for #blockchain and #Tippe...</td>\n",
       "      <td>['positive']</td>\n",
       "    </tr>\n",
       "    <tr>\n",
       "      <th>3</th>\n",
       "      <td>free coins</td>\n",
       "      <td>['positive']</td>\n",
       "    </tr>\n",
       "    <tr>\n",
       "      <th>4</th>\n",
       "      <td>: WE are happy to announce that PayVX Presale...</td>\n",
       "      <td>['positive']</td>\n",
       "    </tr>\n",
       "  </tbody>\n",
       "</table>\n",
       "</div>"
      ],
      "text/plain": [
       "                                               clean     Sentiment\n",
       "0   : Paul Krugman, Nobel Luddite. I had to tweak...   ['neutral']\n",
       "1      But  (dum b a ss) said you know nothing ab...   ['neutral']\n",
       "2   : Another use case for #blockchain and #Tippe...  ['positive']\n",
       "3                                        free coins   ['positive']\n",
       "4   : WE are happy to announce that PayVX Presale...  ['positive']"
      ]
     },
     "execution_count": 19,
     "metadata": {},
     "output_type": "execute_result"
    }
   ],
   "source": [
    "data_clean = data_tweet[[\"clean\",\"Sentiment\"]]\n",
    "data_clean.head()\n",
    "\n"
   ]
  },
  {
   "cell_type": "markdown",
   "id": "663ed720",
   "metadata": {},
   "source": [
    "##### Transform string classes features into numerical classes "
   ]
  },
  {
   "cell_type": "code",
   "execution_count": 20,
   "id": "e276f885",
   "metadata": {},
   "outputs": [],
   "source": [
    "#data_clean.Sentiment = pd.factorize(data_clean.Sentiment)[0]\n",
    "#data_clean.head()"
   ]
  },
  {
   "cell_type": "code",
   "execution_count": 21,
   "id": "48b9ed01",
   "metadata": {},
   "outputs": [],
   "source": [
    "X = data_clean['clean']\n",
    "y = data_clean['Sentiment']"
   ]
  },
  {
   "cell_type": "code",
   "execution_count": 22,
   "id": "16d62f05",
   "metadata": {},
   "outputs": [
    {
     "name": "stdout",
     "output_type": "stream",
     "text": [
      "(40687,) (10172,) (40687,) (10172,)\n"
     ]
    }
   ],
   "source": [
    "from sklearn.model_selection import train_test_split\n",
    "X_train, X_test, y_train, y_test = train_test_split(X, y, \n",
    "                                                    test_size=0.2,\n",
    "                                                    stratify=y)\n",
    "print(X_train.shape, X_test.shape, y_train.shape, y_test.shape)"
   ]
  },
  {
   "cell_type": "markdown",
   "id": "5157b507",
   "metadata": {},
   "source": [
    "### 3. Tokenize text\n",
    "Successivamente, standardizzerai, tokenizzerai e vettorizzerai i dati utilizzando il livello tf.keras.layers.TextVectorization.\n",
    "La standardizzazione si riferisce alla preelaborazione del testo, in genere per rimuovere la punteggiatura o elementi HTML per semplificare il set di dati.\n",
    "La tokenizzazione si riferisce alla divisione di stringhe in token (ad esempio, la divisione di una frase in singole parole suddividendola in spazi bianchi).\n",
    "La vettorizzazione si riferisce alla conversione di token in numeri in modo che possano essere inseriti in una rete neurale."
   ]
  },
  {
   "cell_type": "markdown",
   "id": "7817d663",
   "metadata": {},
   "source": [
    "#### Term Frequency-Inverse Document Frequency model (TFIDF) \n",
    "It is used to convert text documents to matrix of tfidf features"
   ]
  },
  {
   "cell_type": "code",
   "execution_count": 23,
   "id": "55238c9b",
   "metadata": {},
   "outputs": [
    {
     "name": "stdout",
     "output_type": "stream",
     "text": [
      "Tfidf_train: (40687, 136455)\n",
      "Tfidf_test: (10172, 136455)\n"
     ]
    }
   ],
   "source": [
    "#Tf vectorizer \n",
    "#Tfidf vectorizer\n",
    "from sklearn.feature_extraction.text import TfidfVectorizer\n",
    "tv=TfidfVectorizer(min_df=0,max_df=1,use_idf=True,ngram_range=(1,3))\n",
    "#transformed train reviews\n",
    "tv_train_reviews=tv.fit_transform(X_train)\n",
    "#transformed test reviews\n",
    "tv_test_reviews=tv.transform(X_test)\n",
    "print('Tfidf_train:',tv_train_reviews.shape)\n",
    "print('Tfidf_test:',tv_test_reviews.shape)\n"
   ]
  },
  {
   "cell_type": "code",
   "execution_count": 24,
   "id": "b50d0540",
   "metadata": {},
   "outputs": [
    {
     "data": {
      "image/png": "[encoded data removed]",
      "text/plain": [
       "<Figure size 640x480 with 1 Axes>"
      ]
     },
     "metadata": {},
     "output_type": "display_data"
    }
   ],
   "source": [
    "plt.pie(y_train.value_counts(), \n",
    "        labels=['Label 0 (Positive Tweets)', 'Label 1 (Negative Tweets)',\"Label 3 (Neutral)\"], \n",
    "        autopct='%0.1f%%')\n",
    "plt.axis('equal')\n",
    "plt.show()"
   ]
  },
  {
   "cell_type": "markdown",
   "id": "12d3f5a4",
   "metadata": {},
   "source": [
    "###### Fix unbalanced class using SMOTE"
   ]
  },
  {
   "cell_type": "code",
   "execution_count": 25,
   "id": "fdca0581",
   "metadata": {},
   "outputs": [
    {
     "name": "stdout",
     "output_type": "stream",
     "text": [
      "(55050, 136455) (55050,)\n",
      "(55050, 136455) (55050,)\n"
     ]
    },
    {
     "data": {
      "image/png": "[encoded data removed]",
      "text/plain": [
       "<Figure size 640x480 with 1 Axes>"
      ]
     },
     "metadata": {},
     "output_type": "display_data"
    }
   ],
   "source": [
    "from imblearn.over_sampling import SMOTE\n",
    "smote = SMOTE()\n",
    "X_train_smote, y_train_smote = smote.fit_resample(tv_train_reviews,y_train)\n",
    "print(X_train_smote.shape, y_train_smote.shape)\n",
    "\n",
    "# SMOTE on full training data\n",
    "smote = SMOTE()\n",
    "X_smote, y_smote = smote.fit_resample(tv_train_reviews,y_train)\n",
    "print(X_smote.shape, y_smote.shape)\n",
    "\n",
    "# Class Imbalance Check\n",
    "plt.pie(pd.value_counts(y_smote), \n",
    "      autopct='%0.1f%%')\n",
    "plt.axis('equal')\n",
    "plt.show()"
   ]
  },
  {
   "cell_type": "markdown",
   "id": "99ff4b45",
   "metadata": {},
   "source": [
    "## SVM, Logistic Regression"
   ]
  },
  {
   "cell_type": "markdown",
   "id": "22004f08",
   "metadata": {},
   "source": [
    "https://www.kaggle.com/code/lakshmi25npathi/sentiment-analysis-of-imdb-movie-reviews"
   ]
  },
  {
   "cell_type": "markdown",
   "id": "94622ca8",
   "metadata": {},
   "source": [
    "### 1. Logistic Regression "
   ]
  },
  {
   "cell_type": "code",
   "execution_count": 26,
   "id": "8a0812eb",
   "metadata": {},
   "outputs": [],
   "source": [
    "tv_train_reviews = X_smote\n",
    "y_train = y_smote"
   ]
  },
  {
   "cell_type": "code",
   "execution_count": 27,
   "id": "09724d6f",
   "metadata": {},
   "outputs": [
    {
     "name": "stdout",
     "output_type": "stream",
     "text": [
      "LogisticRegression()\n"
     ]
    }
   ],
   "source": [
    "from sklearn.linear_model import LogisticRegression,SGDClassifier\n",
    "lr=LogisticRegression()\n",
    "#Fitting the model for tfidf features\n",
    "lr_tfidf=lr.fit(tv_train_reviews,y_train)\n",
    "print(lr_tfidf)"
   ]
  },
  {
   "cell_type": "code",
   "execution_count": 28,
   "id": "c60139a5",
   "metadata": {},
   "outputs": [
    {
     "name": "stdout",
     "output_type": "stream",
     "text": [
      "[\"['positive']\" \"['positive']\" \"['neutral']\" ... \"['positive']\"\n",
      " \"['neutral']\" \"['neutral']\"]\n"
     ]
    }
   ],
   "source": [
    "#Predicting the model for bag of words\n",
    "##Predicting the model for tfidf features\n",
    "lr_tfidf_predict=lr.predict(tv_test_reviews)\n",
    "print(lr_tfidf_predict)"
   ]
  },
  {
   "cell_type": "markdown",
   "id": "cf7ae420",
   "metadata": {},
   "source": [
    "#### Evaluation"
   ]
  },
  {
   "cell_type": "code",
   "execution_count": 29,
   "id": "07b695b4",
   "metadata": {},
   "outputs": [
    {
     "name": "stdout",
     "output_type": "stream",
     "text": [
      "lr_tfidf_score : 0.542862760519072\n"
     ]
    }
   ],
   "source": [
    "from sklearn.metrics import classification_report,confusion_matrix,accuracy_score\n",
    "\n",
    "#Accuracy score for tfidf features\n",
    "lr_tfidf_score=accuracy_score(y_test,lr_tfidf_predict)\n",
    "print(\"lr_tfidf_score :\",lr_tfidf_score)"
   ]
  },
  {
   "cell_type": "code",
   "execution_count": 30,
   "id": "0019679e",
   "metadata": {},
   "outputs": [
    {
     "name": "stdout",
     "output_type": "stream",
     "text": [
      "              precision    recall  f1-score   support\n",
      "\n",
      "['negative']       0.66      0.19      0.29      1197\n",
      " ['neutral']       0.77      0.22      0.34      4388\n",
      "['positive']       0.50      0.94      0.66      4587\n",
      "\n",
      "    accuracy                           0.54     10172\n",
      "   macro avg       0.65      0.45      0.43     10172\n",
      "weighted avg       0.64      0.54      0.48     10172\n",
      "\n"
     ]
    }
   ],
   "source": [
    "\n",
    "#Classification report for tfidf features\n",
    "lr_tfidf_report=classification_report(y_test,lr_tfidf_predict)\n",
    "print(lr_tfidf_report)"
   ]
  },
  {
   "cell_type": "code",
   "execution_count": 31,
   "id": "65043b66",
   "metadata": {},
   "outputs": [],
   "source": [
    "from sklearn.model_selection import GridSearchCV"
   ]
  },
  {
   "cell_type": "markdown",
   "id": "951c33e5",
   "metadata": {},
   "source": [
    "#### Hyper parameter Tuning"
   ]
  },
  {
   "cell_type": "code",
   "execution_count": 32,
   "id": "1a7717bd",
   "metadata": {},
   "outputs": [
    {
     "name": "stderr",
     "output_type": "stream",
     "text": [
      "C:\\Users\\Alessandro\\anaconda3\\lib\\site-packages\\sklearn\\linear_model\\_logistic.py:1113: UserWarning: Setting penalty='none' will ignore the C and l1_ratio parameters\n",
      "  warnings.warn(\n"
     ]
    },
    {
     "name": "stdout",
     "output_type": "stream",
     "text": [
      "Best Score: 0.4649772933696639\n",
      "Best Hyperparameters: {'C': 1e-05, 'penalty': 'none', 'solver': 'lbfgs'}\n"
     ]
    }
   ],
   "source": [
    "space = dict()\n",
    "space['solver'] = ['newton-cg', 'lbfgs','saga']\n",
    "space['penalty'] = ['none','l2']\n",
    "space['C'] = [1e-5, 1e-4, 1e-3, 1e-2, 1e-1, 1, 10, 100]\n",
    "# define search\n",
    "search = GridSearchCV(lr, space, scoring='accuracy', n_jobs=-1, cv=3)\n",
    "# execute search\n",
    "result = search.fit(tv_train_reviews, y_train)\n",
    "# summarize result\n",
    "print('Best Score: %s' % result.best_score_)\n",
    "print('Best Hyperparameters: %s' % result.best_params_)"
   ]
  },
  {
   "cell_type": "code",
   "execution_count": 33,
   "id": "a86681d2",
   "metadata": {},
   "outputs": [
    {
     "name": "stdout",
     "output_type": "stream",
     "text": [
      "lr_tfidf_score : 0.5441407786079434\n"
     ]
    }
   ],
   "source": [
    "logisticRegression=LogisticRegression( penalty = 'none', solver = 'newton-cg')\n",
    "logistic =logisticRegression.fit(tv_train_reviews,y_train)\n",
    "lr_tfidf_predict=logistic.predict(tv_test_reviews)\n",
    "score=accuracy_score(y_test,lr_tfidf_predict)\n",
    "print(\"lr_tfidf_score :\",score)"
   ]
  },
  {
   "cell_type": "markdown",
   "id": "09c407db",
   "metadata": {},
   "source": [
    "### 2.Random Forest Classifier"
   ]
  },
  {
   "cell_type": "code",
   "execution_count": 34,
   "id": "e04e2139",
   "metadata": {},
   "outputs": [],
   "source": [
    "from sklearn.ensemble import RandomForestClassifier\n",
    "rf = RandomForestClassifier()\n",
    "rf.fit(tv_train_reviews, y_train)\n",
    "y_test_pred = rf.predict(tv_test_reviews)\n"
   ]
  },
  {
   "cell_type": "markdown",
   "id": "7c5d9f6e",
   "metadata": {},
   "source": [
    "#### Evaluation"
   ]
  },
  {
   "cell_type": "code",
   "execution_count": 35,
   "id": "cd462b9a",
   "metadata": {},
   "outputs": [
    {
     "name": "stdout",
     "output_type": "stream",
     "text": [
      "lr_tfidf_score : 0.5372591427447896\n"
     ]
    }
   ],
   "source": [
    "lr_tfidf_score=accuracy_score(y_test,y_test_pred)\n",
    "print(\"lr_tfidf_score :\",lr_tfidf_score)"
   ]
  },
  {
   "cell_type": "code",
   "execution_count": 36,
   "id": "8c047bcf",
   "metadata": {},
   "outputs": [
    {
     "name": "stdout",
     "output_type": "stream",
     "text": [
      "              precision    recall  f1-score   support\n",
      "\n",
      "['negative']       0.59      0.20      0.30      1197\n",
      " ['neutral']       0.78      0.23      0.35      4388\n",
      "['positive']       0.51      0.94      0.66      4587\n",
      "\n",
      "    accuracy                           0.54     10172\n",
      "   macro avg       0.63      0.46      0.44     10172\n",
      "weighted avg       0.64      0.54      0.48     10172\n",
      "\n"
     ]
    }
   ],
   "source": [
    "lr_tfidf_report=classification_report(y_test,lr_tfidf_predict)\n",
    "print(lr_tfidf_report)"
   ]
  },
  {
   "cell_type": "markdown",
   "id": "9f395025",
   "metadata": {},
   "source": [
    "#### Hyperparameter tuning"
   ]
  },
  {
   "cell_type": "code",
   "execution_count": 37,
   "id": "b506656f",
   "metadata": {},
   "outputs": [],
   "source": [
    "def print_results(results):\n",
    "    print('BEST PARAMS: {}\\n'.format(results.best_params_))\n",
    "\n",
    "    means = results.cv_results_['mean_test_score']\n",
    "    stds = results.cv_results_['std_test_score']\n",
    "    for mean, std, params in zip(means, stds, results.cv_results_['params']):\n",
    "        print('{} (+/-{}) for {}'.format(round(mean, 3), round(std * 2, 3), params))"
   ]
  },
  {
   "cell_type": "code",
   "execution_count": 38,
   "id": "12880e44",
   "metadata": {},
   "outputs": [
    {
     "name": "stdout",
     "output_type": "stream",
     "text": [
      "BEST PARAMS: {'max_depth': 20, 'n_estimators': 50}\n",
      "\n",
      "0.334 (+/-0.0) for {'max_depth': 2, 'n_estimators': 5}\n",
      "0.338 (+/-0.001) for {'max_depth': 2, 'n_estimators': 50}\n",
      "0.336 (+/-0.001) for {'max_depth': 10, 'n_estimators': 5}\n",
      "0.351 (+/-0.002) for {'max_depth': 10, 'n_estimators': 50}\n",
      "0.338 (+/-0.001) for {'max_depth': 20, 'n_estimators': 5}\n",
      "0.359 (+/-0.003) for {'max_depth': 20, 'n_estimators': 50}\n"
     ]
    }
   ],
   "source": [
    "from sklearn.model_selection import GridSearchCV\n",
    "\n",
    "rf = RandomForestClassifier()\n",
    "parameters = {\n",
    "    'n_estimators': [5,50],\n",
    "    'max_depth': [2,10,20]\n",
    "}\n",
    "\n",
    "cv = GridSearchCV(rf,parameters)\n",
    "cv.fit(tv_train_reviews,y_train.values.ravel())\n",
    "print_results(cv)"
   ]
  },
  {
   "cell_type": "code",
   "execution_count": 39,
   "id": "eed61fa7",
   "metadata": {},
   "outputs": [
    {
     "data": {
      "text/plain": [
       "0.4350176956350767"
      ]
     },
     "execution_count": 39,
     "metadata": {},
     "output_type": "execute_result"
    }
   ],
   "source": [
    "score = cv.best_estimator_.predict(tv_test_reviews)\n",
    "cv.best_estimator_.score(score, y_test)"
   ]
  },
  {
   "cell_type": "markdown",
   "id": "bcaf5387",
   "metadata": {},
   "source": [
    "### 3. Support Vectors Machine"
   ]
  },
  {
   "cell_type": "code",
   "execution_count": 40,
   "id": "bc07389e",
   "metadata": {},
   "outputs": [],
   "source": [
    "from sklearn.svm import SVC\n",
    "SVC_model = SVC()\n",
    "SVC_model.fit(tv_train_reviews,y_train)\n",
    "prediction_linear = SVC_model.predict(tv_test_reviews)"
   ]
  },
  {
   "cell_type": "markdown",
   "id": "4e4aeab7",
   "metadata": {},
   "source": [
    "#### Evaluation"
   ]
  },
  {
   "cell_type": "code",
   "execution_count": 41,
   "id": "22fdf111",
   "metadata": {},
   "outputs": [
    {
     "name": "stdout",
     "output_type": "stream",
     "text": [
      "              precision    recall  f1-score   support\n",
      "\n",
      "    Positive       0.97      0.08      0.15      1197\n",
      "    Negative       0.59      0.29      0.39      4388\n",
      "     Neutral       0.50      0.87      0.63      4587\n",
      "\n",
      "    accuracy                           0.52     10172\n",
      "   macro avg       0.69      0.41      0.39     10172\n",
      "weighted avg       0.60      0.52      0.47     10172\n",
      "\n"
     ]
    }
   ],
   "source": [
    "svm_tfidf_score=accuracy_score(y_test,prediction_linear)\n",
    "#Classification repot for tfidf features\n",
    "svm_tfidf_report=classification_report(y_test,prediction_linear ,target_names=['Positive','Negative','Neutral'])\n",
    "print(svm_tfidf_report)"
   ]
  },
  {
   "cell_type": "markdown",
   "id": "6b98dbf5",
   "metadata": {},
   "source": [
    "#### Hyper parameter Tuning "
   ]
  },
  {
   "cell_type": "code",
   "execution_count": 42,
   "id": "cda6b0b4",
   "metadata": {},
   "outputs": [
    {
     "name": "stdout",
     "output_type": "stream",
     "text": [
      "Fitting 5 folds for each of 4 candidates, totalling 20 fits\n",
      "[CV 1/5] END ......C=0.1, gamma=0.1, kernel=rbf;, score=0.308 total time= 1.6min\n",
      "[CV 2/5] END ......C=0.1, gamma=0.1, kernel=rbf;, score=0.372 total time= 1.6min\n",
      "[CV 3/5] END ......C=0.1, gamma=0.1, kernel=rbf;, score=0.404 total time= 1.6min\n",
      "[CV 4/5] END ......C=0.1, gamma=0.1, kernel=rbf;, score=0.400 total time= 1.6min\n",
      "[CV 5/5] END ......C=0.1, gamma=0.1, kernel=rbf;, score=0.350 total time= 1.6min\n",
      "[CV 1/5] END .....C=0.1, gamma=0.01, kernel=rbf;, score=0.310 total time= 1.5min\n",
      "[CV 2/5] END .....C=0.1, gamma=0.01, kernel=rbf;, score=0.389 total time= 1.5min\n",
      "[CV 3/5] END .....C=0.1, gamma=0.01, kernel=rbf;, score=0.386 total time= 1.6min\n",
      "[CV 4/5] END .....C=0.1, gamma=0.01, kernel=rbf;, score=0.378 total time= 1.6min\n",
      "[CV 5/5] END .....C=0.1, gamma=0.01, kernel=rbf;, score=0.359 total time= 1.6min\n",
      "[CV 1/5] END ........C=1, gamma=0.1, kernel=rbf;, score=0.308 total time= 2.7min\n",
      "[CV 2/5] END ........C=1, gamma=0.1, kernel=rbf;, score=0.382 total time= 2.7min\n",
      "[CV 3/5] END ........C=1, gamma=0.1, kernel=rbf;, score=0.417 total time= 2.4min\n",
      "[CV 4/5] END ........C=1, gamma=0.1, kernel=rbf;, score=0.411 total time= 2.4min\n",
      "[CV 5/5] END ........C=1, gamma=0.1, kernel=rbf;, score=0.362 total time= 2.4min\n",
      "[CV 1/5] END .......C=1, gamma=0.01, kernel=rbf;, score=0.310 total time= 1.5min\n",
      "[CV 2/5] END .......C=1, gamma=0.01, kernel=rbf;, score=0.389 total time= 1.5min\n",
      "[CV 3/5] END .......C=1, gamma=0.01, kernel=rbf;, score=0.386 total time= 1.6min\n",
      "[CV 4/5] END .......C=1, gamma=0.01, kernel=rbf;, score=0.378 total time= 1.6min\n",
      "[CV 5/5] END .......C=1, gamma=0.01, kernel=rbf;, score=0.359 total time= 1.6min\n"
     ]
    },
    {
     "data": {
      "text/html": [
       "<style>#sk-container-id-1 {color: black;background-color: white;}#sk-container-id-1 pre{padding: 0;}#sk-container-id-1 div.sk-toggleable {background-color: white;}#sk-container-id-1 label.sk-toggleable__label {cursor: pointer;display: block;width: 100%;margin-bottom: 0;padding: 0.3em;box-sizing: border-box;text-align: center;}#sk-container-id-1 label.sk-toggleable__label-arrow:before {content: \"▸\";float: left;margin-right: 0.25em;color: #696969;}#sk-container-id-1 label.sk-toggleable__label-arrow:hover:before {color: black;}#sk-container-id-1 div.sk-estimator:hover label.sk-toggleable__label-arrow:before {color: black;}#sk-container-id-1 div.sk-toggleable__content {max-height: 0;max-width: 0;overflow: hidden;text-align: left;background-color: #f0f8ff;}#sk-container-id-1 div.sk-toggleable__content pre {margin: 0.2em;color: black;border-radius: 0.25em;background-color: #f0f8ff;}#sk-container-id-1 input.sk-toggleable__control:checked~div.sk-toggleable__content {max-height: 200px;max-width: 100%;overflow: auto;}#sk-container-id-1 input.sk-toggleable__control:checked~label.sk-toggleable__label-arrow:before {content: \"▾\";}#sk-container-id-1 div.sk-estimator input.sk-toggleable__control:checked~label.sk-toggleable__label {background-color: #d4ebff;}#sk-container-id-1 div.sk-label input.sk-toggleable__control:checked~label.sk-toggleable__label {background-color: #d4ebff;}#sk-container-id-1 input.sk-hidden--visually {border: 0;clip: rect(1px 1px 1px 1px);clip: rect(1px, 1px, 1px, 1px);height: 1px;margin: -1px;overflow: hidden;padding: 0;position: absolute;width: 1px;}#sk-container-id-1 div.sk-estimator {font-family: monospace;background-color: #f0f8ff;border: 1px dotted black;border-radius: 0.25em;box-sizing: border-box;margin-bottom: 0.5em;}#sk-container-id-1 div.sk-estimator:hover {background-color: #d4ebff;}#sk-container-id-1 div.sk-parallel-item::after {content: \"\";width: 100%;border-bottom: 1px solid gray;flex-grow: 1;}#sk-container-id-1 div.sk-label:hover label.sk-toggleable__label {background-color: #d4ebff;}#sk-container-id-1 div.sk-serial::before {content: \"\";position: absolute;border-left: 1px solid gray;box-sizing: border-box;top: 0;bottom: 0;left: 50%;z-index: 0;}#sk-container-id-1 div.sk-serial {display: flex;flex-direction: column;align-items: center;background-color: white;padding-right: 0.2em;padding-left: 0.2em;position: relative;}#sk-container-id-1 div.sk-item {position: relative;z-index: 1;}#sk-container-id-1 div.sk-parallel {display: flex;align-items: stretch;justify-content: center;background-color: white;position: relative;}#sk-container-id-1 div.sk-item::before, #sk-container-id-1 div.sk-parallel-item::before {content: \"\";position: absolute;border-left: 1px solid gray;box-sizing: border-box;top: 0;bottom: 0;left: 50%;z-index: -1;}#sk-container-id-1 div.sk-parallel-item {display: flex;flex-direction: column;z-index: 1;position: relative;background-color: white;}#sk-container-id-1 div.sk-parallel-item:first-child::after {align-self: flex-end;width: 50%;}#sk-container-id-1 div.sk-parallel-item:last-child::after {align-self: flex-start;width: 50%;}#sk-container-id-1 div.sk-parallel-item:only-child::after {width: 0;}#sk-container-id-1 div.sk-dashed-wrapped {border: 1px dashed gray;margin: 0 0.4em 0.5em 0.4em;box-sizing: border-box;padding-bottom: 0.4em;background-color: white;}#sk-container-id-1 div.sk-label label {font-family: monospace;font-weight: bold;display: inline-block;line-height: 1.2em;}#sk-container-id-1 div.sk-label-container {text-align: center;}#sk-container-id-1 div.sk-container {/* jupyter's `normalize.less` sets `[hidden] { display: none; }` but bootstrap.min.css set `[hidden] { display: none !important; }` so we also need the `!important` here to be able to override the default hidden behavior on the sphinx rendered scikit-learn.org. See: https://github.com/scikit-learn/scikit-learn/issues/21755 */display: inline-block !important;position: relative;}#sk-container-id-1 div.sk-text-repr-fallback {display: none;}</style><div id=\"sk-container-id-1\" class=\"sk-top-container\"><div class=\"sk-text-repr-fallback\"><pre>GridSearchCV(estimator=SVC(),\n",
       "             param_grid={&#x27;C&#x27;: [0.1, 1], &#x27;gamma&#x27;: [0.1, 0.01],\n",
       "                         &#x27;kernel&#x27;: [&#x27;rbf&#x27;]},\n",
       "             verbose=3)</pre><b>In a Jupyter environment, please rerun this cell to show the HTML representation or trust the notebook. <br />On GitHub, the HTML representation is unable to render, please try loading this page with nbviewer.org.</b></div><div class=\"sk-container\" hidden><div class=\"sk-item sk-dashed-wrapped\"><div class=\"sk-label-container\"><div class=\"sk-label sk-toggleable\"><input class=\"sk-toggleable__control sk-hidden--visually\" id=\"sk-estimator-id-1\" type=\"checkbox\" ><label for=\"sk-estimator-id-1\" class=\"sk-toggleable__label sk-toggleable__label-arrow\">GridSearchCV</label><div class=\"sk-toggleable__content\"><pre>GridSearchCV(estimator=SVC(),\n",
       "             param_grid={&#x27;C&#x27;: [0.1, 1], &#x27;gamma&#x27;: [0.1, 0.01],\n",
       "                         &#x27;kernel&#x27;: [&#x27;rbf&#x27;]},\n",
       "             verbose=3)</pre></div></div></div><div class=\"sk-parallel\"><div class=\"sk-parallel-item\"><div class=\"sk-item\"><div class=\"sk-label-container\"><div class=\"sk-label sk-toggleable\"><input class=\"sk-toggleable__control sk-hidden--visually\" id=\"sk-estimator-id-2\" type=\"checkbox\" ><label for=\"sk-estimator-id-2\" class=\"sk-toggleable__label sk-toggleable__label-arrow\">estimator: SVC</label><div class=\"sk-toggleable__content\"><pre>SVC()</pre></div></div></div><div class=\"sk-serial\"><div class=\"sk-item\"><div class=\"sk-estimator sk-toggleable\"><input class=\"sk-toggleable__control sk-hidden--visually\" id=\"sk-estimator-id-3\" type=\"checkbox\" ><label for=\"sk-estimator-id-3\" class=\"sk-toggleable__label sk-toggleable__label-arrow\">SVC</label><div class=\"sk-toggleable__content\"><pre>SVC()</pre></div></div></div></div></div></div></div></div></div></div>"
      ],
      "text/plain": [
       "GridSearchCV(estimator=SVC(),\n",
       "             param_grid={'C': [0.1, 1], 'gamma': [0.1, 0.01],\n",
       "                         'kernel': ['rbf']},\n",
       "             verbose=3)"
      ]
     },
     "execution_count": 42,
     "metadata": {},
     "output_type": "execute_result"
    }
   ],
   "source": [
    "param_grid = {'C': [0.1, 1],\n",
    "              'gamma': [0.1, 0.01],\n",
    "              'kernel': ['rbf']}\n",
    " \n",
    "grid = GridSearchCV(SVC(), param_grid, refit = True, verbose = 3)\n",
    " \n",
    "# fitting the model for grid search\n",
    "grid.fit(tv_train_reviews, y_train)\n",
    "\n",
    "\n"
   ]
  },
  {
   "cell_type": "code",
   "execution_count": 43,
   "id": "0113f0ff",
   "metadata": {},
   "outputs": [
    {
     "name": "stdout",
     "output_type": "stream",
     "text": [
      "BEST PARAMS: {'C': 1, 'gamma': 0.1, 'kernel': 'rbf'}\n",
      "\n",
      "0.367 (+/-0.071) for {'C': 0.1, 'gamma': 0.1, 'kernel': 'rbf'}\n",
      "0.364 (+/-0.059) for {'C': 0.1, 'gamma': 0.01, 'kernel': 'rbf'}\n",
      "0.376 (+/-0.079) for {'C': 1, 'gamma': 0.1, 'kernel': 'rbf'}\n",
      "0.364 (+/-0.059) for {'C': 1, 'gamma': 0.01, 'kernel': 'rbf'}\n"
     ]
    }
   ],
   "source": [
    "print_results(grid)"
   ]
  },
  {
   "cell_type": "code",
   "execution_count": 44,
   "id": "760d580f",
   "metadata": {},
   "outputs": [
    {
     "data": {
      "text/plain": [
       "0.20674400314589067"
      ]
     },
     "execution_count": 44,
     "metadata": {},
     "output_type": "execute_result"
    }
   ],
   "source": [
    "grid.best_estimator_.score(tv_test_reviews, y_test)"
   ]
  },
  {
   "cell_type": "markdown",
   "id": "79082d39",
   "metadata": {},
   "source": [
    "### 4.Naive Bayes Classifier\n",
    "The multinomial Naive Bayes classifier is suitable for classification with discrete features (e.g., word counts for text classification)."
   ]
  },
  {
   "cell_type": "code",
   "execution_count": 45,
   "id": "b302f2f6",
   "metadata": {},
   "outputs": [],
   "source": [
    "from sklearn.naive_bayes import MultinomialNB\n",
    "# Naive Bayes Classifier\n",
    "mnb = MultinomialNB()\n",
    "mnb.fit(tv_train_reviews, y_train)\n",
    "NB_results = mnb.predict(tv_test_reviews)"
   ]
  },
  {
   "cell_type": "markdown",
   "id": "2a056d83",
   "metadata": {},
   "source": [
    "#### Evauation"
   ]
  },
  {
   "cell_type": "code",
   "execution_count": 46,
   "id": "dd106a42",
   "metadata": {},
   "outputs": [
    {
     "name": "stdout",
     "output_type": "stream",
     "text": [
      "              precision    recall  f1-score   support\n",
      "\n",
      "    Positive       0.14      0.89      0.24      1197\n",
      "    Negative       0.78      0.22      0.34      4388\n",
      "     Neutral       0.73      0.17      0.27      4587\n",
      "\n",
      "    accuracy                           0.28     10172\n",
      "   macro avg       0.55      0.43      0.28     10172\n",
      "weighted avg       0.68      0.28      0.30     10172\n",
      "\n"
     ]
    }
   ],
   "source": [
    "from sklearn.metrics import accuracy_score\n",
    "svm_tfidf_score=accuracy_score(y_test,NB_results)\n",
    "#Classification repot for tfidf features\n",
    "svm_tfidf_report=classification_report(y_test,NB_results,target_names=['Positive','Negative','Neutral'])\n",
    "print(svm_tfidf_report)"
   ]
  },
  {
   "cell_type": "markdown",
   "id": "286b5f7c",
   "metadata": {},
   "source": [
    "#### HyperprameterTuning"
   ]
  },
  {
   "cell_type": "code",
   "execution_count": 47,
   "id": "94735c61",
   "metadata": {},
   "outputs": [
    {
     "data": {
      "text/html": [
       "<style>#sk-container-id-2 {color: black;background-color: white;}#sk-container-id-2 pre{padding: 0;}#sk-container-id-2 div.sk-toggleable {background-color: white;}#sk-container-id-2 label.sk-toggleable__label {cursor: pointer;display: block;width: 100%;margin-bottom: 0;padding: 0.3em;box-sizing: border-box;text-align: center;}#sk-container-id-2 label.sk-toggleable__label-arrow:before {content: \"▸\";float: left;margin-right: 0.25em;color: #696969;}#sk-container-id-2 label.sk-toggleable__label-arrow:hover:before {color: black;}#sk-container-id-2 div.sk-estimator:hover label.sk-toggleable__label-arrow:before {color: black;}#sk-container-id-2 div.sk-toggleable__content {max-height: 0;max-width: 0;overflow: hidden;text-align: left;background-color: #f0f8ff;}#sk-container-id-2 div.sk-toggleable__content pre {margin: 0.2em;color: black;border-radius: 0.25em;background-color: #f0f8ff;}#sk-container-id-2 input.sk-toggleable__control:checked~div.sk-toggleable__content {max-height: 200px;max-width: 100%;overflow: auto;}#sk-container-id-2 input.sk-toggleable__control:checked~label.sk-toggleable__label-arrow:before {content: \"▾\";}#sk-container-id-2 div.sk-estimator input.sk-toggleable__control:checked~label.sk-toggleable__label {background-color: #d4ebff;}#sk-container-id-2 div.sk-label input.sk-toggleable__control:checked~label.sk-toggleable__label {background-color: #d4ebff;}#sk-container-id-2 input.sk-hidden--visually {border: 0;clip: rect(1px 1px 1px 1px);clip: rect(1px, 1px, 1px, 1px);height: 1px;margin: -1px;overflow: hidden;padding: 0;position: absolute;width: 1px;}#sk-container-id-2 div.sk-estimator {font-family: monospace;background-color: #f0f8ff;border: 1px dotted black;border-radius: 0.25em;box-sizing: border-box;margin-bottom: 0.5em;}#sk-container-id-2 div.sk-estimator:hover {background-color: #d4ebff;}#sk-container-id-2 div.sk-parallel-item::after {content: \"\";width: 100%;border-bottom: 1px solid gray;flex-grow: 1;}#sk-container-id-2 div.sk-label:hover label.sk-toggleable__label {background-color: #d4ebff;}#sk-container-id-2 div.sk-serial::before {content: \"\";position: absolute;border-left: 1px solid gray;box-sizing: border-box;top: 0;bottom: 0;left: 50%;z-index: 0;}#sk-container-id-2 div.sk-serial {display: flex;flex-direction: column;align-items: center;background-color: white;padding-right: 0.2em;padding-left: 0.2em;position: relative;}#sk-container-id-2 div.sk-item {position: relative;z-index: 1;}#sk-container-id-2 div.sk-parallel {display: flex;align-items: stretch;justify-content: center;background-color: white;position: relative;}#sk-container-id-2 div.sk-item::before, #sk-container-id-2 div.sk-parallel-item::before {content: \"\";position: absolute;border-left: 1px solid gray;box-sizing: border-box;top: 0;bottom: 0;left: 50%;z-index: -1;}#sk-container-id-2 div.sk-parallel-item {display: flex;flex-direction: column;z-index: 1;position: relative;background-color: white;}#sk-container-id-2 div.sk-parallel-item:first-child::after {align-self: flex-end;width: 50%;}#sk-container-id-2 div.sk-parallel-item:last-child::after {align-self: flex-start;width: 50%;}#sk-container-id-2 div.sk-parallel-item:only-child::after {width: 0;}#sk-container-id-2 div.sk-dashed-wrapped {border: 1px dashed gray;margin: 0 0.4em 0.5em 0.4em;box-sizing: border-box;padding-bottom: 0.4em;background-color: white;}#sk-container-id-2 div.sk-label label {font-family: monospace;font-weight: bold;display: inline-block;line-height: 1.2em;}#sk-container-id-2 div.sk-label-container {text-align: center;}#sk-container-id-2 div.sk-container {/* jupyter's `normalize.less` sets `[hidden] { display: none; }` but bootstrap.min.css set `[hidden] { display: none !important; }` so we also need the `!important` here to be able to override the default hidden behavior on the sphinx rendered scikit-learn.org. See: https://github.com/scikit-learn/scikit-learn/issues/21755 */display: inline-block !important;position: relative;}#sk-container-id-2 div.sk-text-repr-fallback {display: none;}</style><div id=\"sk-container-id-2\" class=\"sk-top-container\"><div class=\"sk-text-repr-fallback\"><pre>GridSearchCV(cv=5, estimator=MultinomialNB(),\n",
       "             param_grid={&#x27;alpha&#x27;: (1, 0.1, 0.01, 0.001, 0.0001, 1e-05),\n",
       "                         &#x27;fit_prior&#x27;: (&#x27;True&#x27;, &#x27;False&#x27;)})</pre><b>In a Jupyter environment, please rerun this cell to show the HTML representation or trust the notebook. <br />On GitHub, the HTML representation is unable to render, please try loading this page with nbviewer.org.</b></div><div class=\"sk-container\" hidden><div class=\"sk-item sk-dashed-wrapped\"><div class=\"sk-label-container\"><div class=\"sk-label sk-toggleable\"><input class=\"sk-toggleable__control sk-hidden--visually\" id=\"sk-estimator-id-4\" type=\"checkbox\" ><label for=\"sk-estimator-id-4\" class=\"sk-toggleable__label sk-toggleable__label-arrow\">GridSearchCV</label><div class=\"sk-toggleable__content\"><pre>GridSearchCV(cv=5, estimator=MultinomialNB(),\n",
       "             param_grid={&#x27;alpha&#x27;: (1, 0.1, 0.01, 0.001, 0.0001, 1e-05),\n",
       "                         &#x27;fit_prior&#x27;: (&#x27;True&#x27;, &#x27;False&#x27;)})</pre></div></div></div><div class=\"sk-parallel\"><div class=\"sk-parallel-item\"><div class=\"sk-item\"><div class=\"sk-label-container\"><div class=\"sk-label sk-toggleable\"><input class=\"sk-toggleable__control sk-hidden--visually\" id=\"sk-estimator-id-5\" type=\"checkbox\" ><label for=\"sk-estimator-id-5\" class=\"sk-toggleable__label sk-toggleable__label-arrow\">estimator: MultinomialNB</label><div class=\"sk-toggleable__content\"><pre>MultinomialNB()</pre></div></div></div><div class=\"sk-serial\"><div class=\"sk-item\"><div class=\"sk-estimator sk-toggleable\"><input class=\"sk-toggleable__control sk-hidden--visually\" id=\"sk-estimator-id-6\" type=\"checkbox\" ><label for=\"sk-estimator-id-6\" class=\"sk-toggleable__label sk-toggleable__label-arrow\">MultinomialNB</label><div class=\"sk-toggleable__content\"><pre>MultinomialNB()</pre></div></div></div></div></div></div></div></div></div></div>"
      ],
      "text/plain": [
       "GridSearchCV(cv=5, estimator=MultinomialNB(),\n",
       "             param_grid={'alpha': (1, 0.1, 0.01, 0.001, 0.0001, 1e-05),\n",
       "                         'fit_prior': ('True', 'False')})"
      ]
     },
     "execution_count": 47,
     "metadata": {},
     "output_type": "execute_result"
    }
   ],
   "source": [
    "from sklearn.model_selection import GridSearchCV\n",
    "parameters = {  \n",
    "'alpha': (1, 0.1, 0.01, 0.001, 0.0001, 0.00001),\n",
    "'fit_prior':('True','False')\n",
    "}  \n",
    "grid_search= GridSearchCV(mnb, parameters,cv=5)\n",
    "grid_search.fit(tv_train_reviews,y_train.values.ravel())"
   ]
  },
  {
   "cell_type": "code",
   "execution_count": 48,
   "id": "93e96964",
   "metadata": {},
   "outputs": [
    {
     "name": "stdout",
     "output_type": "stream",
     "text": [
      "MultinomialNB(alpha=0.001, fit_prior='True')\n"
     ]
    },
    {
     "data": {
      "text/plain": [
       "0.27585528902870626"
      ]
     },
     "execution_count": 48,
     "metadata": {},
     "output_type": "execute_result"
    }
   ],
   "source": [
    "print(grid_search.best_estimator_)\n",
    "grid_search.best_estimator_.score(tv_test_reviews, y_test)"
   ]
  },
  {
   "cell_type": "markdown",
   "id": "ca4cda91",
   "metadata": {},
   "source": [
    "## Summary "
   ]
  },
  {
   "cell_type": "markdown",
   "id": "05651379",
   "metadata": {},
   "source": [
    "See the complete summary called : REPORT_Alessandro-DiPatria-ML21_22"
   ]
  }
 ],
 "metadata": {
  "kernelspec": {
   "display_name": "Python 3 (ipykernel)",
   "language": "python",
   "name": "python3"
  },
  "language_info": {
   "codemirror_mode": {
    "name": "ipython",
    "version": 3
   },
   "file_extension": ".py",
   "mimetype": "text/x-python",
   "name": "python",
   "nbconvert_exporter": "python",
   "pygments_lexer": "ipython3",
   "version": "3.8.8"
  }
 },
 "nbformat": 4,
 "nbformat_minor": 5
}
